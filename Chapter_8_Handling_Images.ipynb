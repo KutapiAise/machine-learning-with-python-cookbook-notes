{
  "nbformat": 4,
  "nbformat_minor": 0,
  "metadata": {
    "colab": {
      "name": "Chapter 8- Handling Images.ipynb",
      "provenance": [],
      "toc_visible": true,
      "authorship_tag": "ABX9TyN9ewcdIjhY6hIzDfHX5hYR",
      "include_colab_link": true
    },
    "kernelspec": {
      "name": "python3",
      "display_name": "Python 3"
    }
  },
  "cells": [
    {
      "cell_type": "markdown",
      "metadata": {
        "id": "view-in-github",
        "colab_type": "text"
      },
      "source": [
        "<a href=\"https://colab.research.google.com/github/KutapiAise/machine-learning-with-python-cookbook-notes/blob/master/Chapter_8_Handling_Images.ipynb\" target=\"_parent\"><img src=\"https://colab.research.google.com/assets/colab-badge.svg\" alt=\"Open In Colab\"/></a>"
      ]
    },
    {
      "cell_type": "markdown",
      "metadata": {
        "id": "O1CwciJTjs0i",
        "colab_type": "text"
      },
      "source": [
        "The ability of cmputers to recognize patterns andd objects  from images is incredibly powerful tool in our toolkit.  Before we can apply ML to images, we often first need to transform raw images to features usable by our ML algorithms.\n",
        "\n",
        "## 8.1 Loading Images"
      ]
    },
    {
      "cell_type": "code",
      "metadata": {
        "id": "q5v0yZnwjmSX",
        "colab_type": "code",
        "colab": {
          "base_uri": "https://localhost:8080/",
          "height": 34
        },
        "outputId": "ab03ad33-5a4a-4492-a0c1-3d83fc6b9048"
      },
      "source": [
        "import cv2\n",
        "import numpy as np\n",
        "from matplotlib import  pyplot as pyplot\n",
        "\n",
        "#cv2.__version__"
      ],
      "execution_count": 1,
      "outputs": [
        {
          "output_type": "execute_result",
          "data": {
            "text/plain": [
              "'4.1.2'"
            ]
          },
          "metadata": {
            "tags": []
          },
          "execution_count": 1
        }
      ]
    },
    {
      "cell_type": "code",
      "metadata": {
        "id": "Vg62k00pkbtT",
        "colab_type": "code",
        "colab": {}
      },
      "source": [
        "image = cv2.imread(\"images/plane.jpg\", cv2.IMREAD_GRAYSCALE)\n",
        "\n",
        "plt.imshow(image, cmap=\"gray\"), plt.axis(\"off\")\n",
        "plt.show()\n",
        "\n",
        "type(image)\n",
        "\n",
        "image\n"
      ],
      "execution_count": 0,
      "outputs": []
    },
    {
      "cell_type": "code",
      "metadata": {
        "id": "bpjlgKPvteDG",
        "colab_type": "code",
        "colab": {}
      },
      "source": [
        "\n",
        "# \n",
        "image.shape\n",
        "\n",
        "##########\n",
        "\n",
        "# \n",
        "image[0,0]\n",
        "\n",
        "##########\n",
        "\n",
        "# カラーで画像を読み込み\n",
        "image_bgr = cv2.imread(\"images/plane.jpg\", cv2.IMREAD_COLOR)\n",
        "\n",
        "# ピクセルを表示\n",
        "image_bgr[0,0]\n",
        "\n",
        "##########\n",
        "\n",
        "# RGBに変換\n",
        "image_rgb = cv2.cvtColor(image_bgr, cv2.COLOR_BGR2RGB)\n",
        "\n",
        "# 画像を表示\n",
        "plt.imshow(image_rgb), plt.axis(\"off\")\n",
        "plt.show()"
      ],
      "execution_count": 0,
      "outputs": []
    },
    {
      "cell_type": "markdown",
      "metadata": {
        "id": "Hhu-qeOsutiv",
        "colab_type": "text"
      },
      "source": [
        "## 8.2 Saving Images"
      ]
    },
    {
      "cell_type": "code",
      "metadata": {
        "id": "HYJR9nyTuzcB",
        "colab_type": "code",
        "colab": {
          "base_uri": "https://localhost:8080/",
          "height": 229
        },
        "outputId": "a3b0e522-b8cc-4228-a3bd-c95af57ee1d9"
      },
      "source": [
        "# -*- coding: utf-8 -*-\n",
        "\n",
        "# ライブラリをロード\n",
        "import cv2\n",
        "import numpy as np\n",
        "\n",
        "# モノクロで画像を読み込み\n",
        "image = cv2.imread(\"images/plane.jpg\", cv2.IMREAD_GRAYSCALE)\n",
        "\n",
        "# 画像を保存\n",
        "cv2.imwrite(\"images/plane_new.jpg\", image)\n",
        "\n",
        "##########\n"
      ],
      "execution_count": 2,
      "outputs": [
        {
          "output_type": "error",
          "ename": "error",
          "evalue": "ignored",
          "traceback": [
            "\u001b[0;31m---------------------------------------------------------------------------\u001b[0m",
            "\u001b[0;31merror\u001b[0m                                     Traceback (most recent call last)",
            "\u001b[0;32m<ipython-input-2-1b77e645bd6e>\u001b[0m in \u001b[0;36m<module>\u001b[0;34m()\u001b[0m\n\u001b[1;32m      6\u001b[0m \u001b[0;34m\u001b[0m\u001b[0m\n\u001b[1;32m      7\u001b[0m \u001b[0;31m# 画像を保存\u001b[0m\u001b[0;34m\u001b[0m\u001b[0;34m\u001b[0m\u001b[0;34m\u001b[0m\u001b[0m\n\u001b[0;32m----> 8\u001b[0;31m \u001b[0mcv2\u001b[0m\u001b[0;34m.\u001b[0m\u001b[0mimwrite\u001b[0m\u001b[0;34m(\u001b[0m\u001b[0;34m\"images/plane_new.jpg\"\u001b[0m\u001b[0;34m,\u001b[0m \u001b[0mimage\u001b[0m\u001b[0;34m)\u001b[0m\u001b[0;34m\u001b[0m\u001b[0;34m\u001b[0m\u001b[0m\n\u001b[0m\u001b[1;32m      9\u001b[0m \u001b[0;34m\u001b[0m\u001b[0m\n\u001b[1;32m     10\u001b[0m \u001b[0;31m##########\u001b[0m\u001b[0;34m\u001b[0m\u001b[0;34m\u001b[0m\u001b[0;34m\u001b[0m\u001b[0m\n",
            "\u001b[0;31merror\u001b[0m: OpenCV(4.1.2) /io/opencv/modules/imgcodecs/src/loadsave.cpp:715: error: (-215:Assertion failed) !_img.empty() in function 'imwrite'\n"
          ]
        }
      ]
    },
    {
      "cell_type": "markdown",
      "metadata": {
        "id": "1gR1Rr9gu6sH",
        "colab_type": "text"
      },
      "source": [
        "## 8.3 Resizing Images"
      ]
    },
    {
      "cell_type": "code",
      "metadata": {
        "id": "6FwPXoemu4VW",
        "colab_type": "code",
        "colab": {}
      },
      "source": [
        "# -*- coding: utf-8 -*-\n",
        "\n",
        "# ライブラリのロード\n",
        "import cv2\n",
        "import numpy as np\n",
        "from matplotlib import pyplot as plt\n",
        "\n",
        "# モノクロで画像を読み込み\n",
        "image = cv2.imread(\"images/plane_256x256.jpg\", cv2.IMREAD_GRAYSCALE)\n",
        "\n",
        "# 画像を50x50ピクセルにサイズ変更\n",
        "image_50x50 = cv2.resize(image, (50, 50))\n",
        "\n",
        "# 画像を表示\n",
        "plt.imshow(image_50x50, cmap=\"gray\"), plt.axis(\"off\")\n",
        "plt.show()"
      ],
      "execution_count": 0,
      "outputs": []
    },
    {
      "cell_type": "markdown",
      "metadata": {
        "id": "1VzU7JOAvIof",
        "colab_type": "text"
      },
      "source": [
        "## 8.4 Cropping Images"
      ]
    },
    {
      "cell_type": "code",
      "metadata": {
        "id": "3Bhe8QwCvQW6",
        "colab_type": "code",
        "colab": {}
      },
      "source": [
        "# -*- coding: utf-8 -*-\n",
        "\n",
        "# ライブラリのロード\n",
        "import cv2\n",
        "import numpy as np\n",
        "from matplotlib import pyplot as plt\n",
        "\n",
        "# モノクロで画像を読み込み\n",
        "image = cv2.imread(\"images/plane_256x256.jpg\", cv2.IMREAD_GRAYSCALE)\n",
        "\n",
        "# 列の最初の半分を選択。行はすべての行を使う\n",
        "image_cropped = image[:,:128]\n",
        "\n",
        "# 画像を表示\n",
        "plt.imshow(image_cropped, cmap=\"gray\"), plt.axis(\"off\")\n",
        "plt.show()"
      ],
      "execution_count": 0,
      "outputs": []
    },
    {
      "cell_type": "markdown",
      "metadata": {
        "id": "8cV5uquPvRU9",
        "colab_type": "text"
      },
      "source": [
        "## 8.5 Blurring Images"
      ]
    },
    {
      "cell_type": "code",
      "metadata": {
        "id": "K2LkdeAZvapD",
        "colab_type": "code",
        "colab": {}
      },
      "source": [
        "# -*- coding: utf-8 -*-\n",
        "\n",
        "# ライブラリをロード\n",
        "import cv2\n",
        "import numpy as np\n",
        "from matplotlib import pyplot as plt\n",
        "\n",
        "# モノクロで画像を読み込み\n",
        "image = cv2.imread(\"images/plane_256x256.jpg\", cv2.IMREAD_GRAYSCALE)\n",
        "\n",
        "# 画像をぼかす\n",
        "image_blurry = cv2.blur(image, (5,5))\n",
        "\n",
        "# 画像を表示\n",
        "plt.imshow(image_blurry, cmap=\"gray\"), plt.axis(\"off\")\n",
        "plt.show()\n",
        "\n",
        "##########\n",
        "\n",
        "# 画像をぼかす\n",
        "image_very_blurry = cv2.blur(image, (100,100))\n",
        "\n",
        "# 画像を表示\n",
        "plt.imshow(image_very_blurry, cmap=\"gray\"), plt.xticks([]), plt.yticks([])\n",
        "plt.show()\n",
        "\n",
        "##########\n",
        "\n",
        "# カーネルを作成\n",
        "kernel = np.ones((5,5)) / 25.0\n",
        "\n",
        "# カーネルを表示\n",
        "kernel\n",
        "\n",
        "##########\n",
        "\n",
        "# カーネルを適用\n",
        "image_kernel = cv2.filter2D(image, -1, kernel)\n",
        "\n",
        "# 画像を表示\n",
        "plt.imshow(image_kernel, cmap=\"gray\"), plt.xticks([]), plt.yticks([])\n",
        "plt.show()"
      ],
      "execution_count": 0,
      "outputs": []
    },
    {
      "cell_type": "markdown",
      "metadata": {
        "id": "eiufU2jjvmJq",
        "colab_type": "text"
      },
      "source": [
        "## 8.6 Sharpening Images"
      ]
    },
    {
      "cell_type": "code",
      "metadata": {
        "id": "5nkLfnpqvwv0",
        "colab_type": "code",
        "colab": {}
      },
      "source": [
        "# -*- coding: utf-8 -*-\n",
        "\n",
        "# ライブラリをロード\n",
        "import cv2\n",
        "import numpy as np\n",
        "from matplotlib import pyplot as plt\n",
        "\n",
        "# モノクロで画像を読み込み\n",
        "image = cv2.imread(\"images/plane_256x256.jpg\", cv2.IMREAD_GRAYSCALE)\n",
        "\n",
        "# カーネルの作成\n",
        "kernel = np.array([[0, -1, 0],\n",
        "                   [-1, 5,-1],\n",
        "                   [0, -1, 0]])\n",
        "\n",
        "# 画像をくっきりさせる\n",
        "image_sharp = cv2.filter2D(image, -1, kernel)\n",
        "\n",
        "# 画像を表示\n",
        "plt.imshow(image_sharp, cmap=\"gray\"), plt.axis(\"off\")\n",
        "plt.show()\n"
      ],
      "execution_count": 0,
      "outputs": []
    },
    {
      "cell_type": "markdown",
      "metadata": {
        "id": "uTd_RkAsv84d",
        "colab_type": "text"
      },
      "source": [
        "## 8.7 Enhancing Contrast"
      ]
    },
    {
      "cell_type": "code",
      "metadata": {
        "id": "0ZBnXlpPwEqs",
        "colab_type": "code",
        "colab": {}
      },
      "source": [
        "# -*- coding: utf-8 -*-\n",
        "\n",
        "# ライブラリをロード\n",
        "import cv2\n",
        "import numpy as np\n",
        "from matplotlib import pyplot as plt\n",
        "\n",
        "# モノクロで画像を読み込み\n",
        "image = cv2.imread(\"images/plane_256x256.jpg\", cv2.IMREAD_GRAYSCALE)\n",
        "\n",
        "# 画像を強調\n",
        "image_enhanced = cv2.equalizeHist(image)\n",
        "\n",
        "# 画像を表示\n",
        "plt.imshow(image_enhanced, cmap=\"gray\"), plt.axis(\"off\")\n",
        "plt.show()\n",
        "\n",
        "##########\n",
        "\n",
        "# 画像をロード\n",
        "image_bgr = cv2.imread(\"images/plane.jpg\")\n",
        "\n",
        "# YUVに変換\n",
        "image_yuv = cv2.cvtColor(image_bgr, cv2.COLOR_BGR2YUV)\n",
        "\n",
        "# ヒストグラム均等化を適用\n",
        "image_yuv[:, :, 0] = cv2.equalizeHist(image_yuv[:, :, 0])\n",
        "\n",
        "# RGBに変換\n",
        "image_rgb = cv2.cvtColor(image_yuv, cv2.COLOR_YUV2RGB)\n",
        "\n",
        "# 画像を表示\n",
        "plt.imshow(image_rgb), plt.axis(\"off\")\n",
        "plt.show()"
      ],
      "execution_count": 0,
      "outputs": []
    },
    {
      "cell_type": "markdown",
      "metadata": {
        "id": "7drhjKp0wO6d",
        "colab_type": "text"
      },
      "source": [
        "## 8.8 Isolating Colors"
      ]
    },
    {
      "cell_type": "code",
      "metadata": {
        "id": "Tw_PjcwgwTio",
        "colab_type": "code",
        "colab": {}
      },
      "source": [
        "# -*- coding: utf-8 -*-\n",
        "\n",
        "# ライブラリをロード\n",
        "import cv2\n",
        "import numpy as np\n",
        "from matplotlib import pyplot as plt\n",
        "\n",
        "# 画像をロード\n",
        "image_bgr = cv2.imread('images/plane_256x256.jpg')\n",
        "\n",
        "# BGR色空間からHSV色空間に変換\n",
        "image_hsv = cv2.cvtColor(image_bgr, cv2.COLOR_BGR2HSV)\n",
        "\n",
        "# HSV空間で「青」の範囲を定義\n",
        "lower_blue = np.array([50,100,50])\n",
        "upper_blue = np.array([130,255,255])\n",
        "\n",
        "# マスクを作成\n",
        "mask = cv2.inRange(image_hsv, lower_blue, upper_blue)\n",
        "\n",
        "# 画像にマスクを適用\n",
        "image_bgr_masked = cv2.bitwise_and(image_bgr, image_bgr, mask=mask)\n",
        "\n",
        "# BGR色空間からRGB色空間に変換\n",
        "image_rgb = cv2.cvtColor(image_bgr_masked, cv2.COLOR_BGR2RGB)\n",
        "\n",
        "# 画像を表示\n",
        "plt.imshow(image_rgb), plt.axis(\"off\")\n",
        "plt.show()\n",
        "\n",
        "##########\n",
        "\n",
        "# マスク画像を表示\n",
        "# Show image\n",
        "plt.imshow(mask, cmap='gray'), plt.axis(\"off\")\n",
        "plt.show()\n"
      ],
      "execution_count": 0,
      "outputs": []
    },
    {
      "cell_type": "markdown",
      "metadata": {
        "id": "Vue78H2hwgo5",
        "colab_type": "text"
      },
      "source": [
        "## 8.9 Binarizing Images"
      ]
    },
    {
      "cell_type": "code",
      "metadata": {
        "id": "riUUVMaewlnn",
        "colab_type": "code",
        "colab": {}
      },
      "source": [
        "# -*- coding: utf-8 -*-\n",
        "\n",
        "# ライブラリをロード\n",
        "import cv2\n",
        "import numpy as np\n",
        "from matplotlib import pyplot as plt\n",
        "\n",
        "# モノクロで画像を読み込み\n",
        "image_grey = cv2.imread(\"images/plane_256x256.jpg\", cv2.IMREAD_GRAYSCALE)\n",
        "\n",
        "# 適応的閾値処理を実行\n",
        "max_output_value = 255\n",
        "neighborhood_size = 99\n",
        "subtract_from_mean = 10\n",
        "image_binarized = cv2.adaptiveThreshold(image_grey,\n",
        "                                        max_output_value,\n",
        "                                        cv2.ADAPTIVE_THRESH_GAUSSIAN_C,\n",
        "                                        cv2.THRESH_BINARY,\n",
        "                                        neighborhood_size,\n",
        "                                        subtract_from_mean)\n",
        "\n",
        "# 画像を表示\n",
        "plt.imshow(image_binarized, cmap=\"gray\"), plt.axis(\"off\")\n",
        "plt.show()\n",
        "\n",
        "##########\n",
        "\n",
        "# cv2.ADAPTIVE_THRESH_MEAN_Cを使用\n",
        "image_mean_threshold = cv2.adaptiveThreshold(image_grey,\n",
        "                                             max_output_value,\n",
        "                                             cv2.ADAPTIVE_THRESH_MEAN_C,\n",
        "                                             cv2.THRESH_BINARY,\n",
        "                                             neighborhood_size,\n",
        "                                             subtract_from_mean)\n",
        "\n",
        "# 画像を表示\n",
        "plt.imshow(image_mean_threshold, cmap=\"gray\"), plt.axis(\"off\")\n",
        "plt.show()"
      ],
      "execution_count": 0,
      "outputs": []
    },
    {
      "cell_type": "markdown",
      "metadata": {
        "id": "ZrywErwfw0IX",
        "colab_type": "text"
      },
      "source": [
        "##8.10 Removing Backgrounds"
      ]
    },
    {
      "cell_type": "code",
      "metadata": {
        "id": "UiE90etAxTsS",
        "colab_type": "code",
        "colab": {}
      },
      "source": [
        "# -*- coding: utf-8 -*-\n",
        "\n",
        "# ライブラリをロード\n",
        "import cv2\n",
        "import numpy as np\n",
        "from matplotlib import pyplot as plt\n",
        "\n",
        "# 画像をロードしてRGBに変換\n",
        "image_bgr = cv2.imread('images/plane_256x256.jpg')\n",
        "image_rgb = cv2.cvtColor(image_bgr, cv2.COLOR_BGR2RGB)\n",
        "\n",
        "# 矩形: 始点x、始点y, 幅、高さ\n",
        "rectangle = (0, 56, 256, 150)\n",
        "\n",
        "# マスクの初期値を作成\n",
        "mask = np.zeros(image_rgb.shape[:2], np.uint8)\n",
        "\n",
        "# grabCutで用いる一時配列を作成\n",
        "bgdModel = np.zeros((1, 65), np.float64)\n",
        "fgdModel = np.zeros((1, 65), np.float64)\n",
        "\n",
        "# grabCutを実行\n",
        "cv2.grabCut(image_rgb, # 入力画像\n",
        "            mask,      # マスク\n",
        "            rectangle, # 範囲指定の矩形\n",
        "            bgdModel,  # 背景のための一時配列\n",
        "            fgdModel,  # 前景のための一時配列\n",
        "            5,         # 繰り返し回数\n",
        "            cv2.GC_INIT_WITH_RECT) # 矩形を用いて初期化\n",
        "\n",
        "# マスクを作成。背景であることが確実もしくは高確率な場所を0に、それ以外を1に\n",
        "mask_2 = np.where((mask==2) | (mask==0), 0, 1).astype('uint8')\n",
        "\n",
        "# 画像とマスクを掛け合わせて背景を除去\n",
        "image_rgb_nobg = image_rgb * mask_2[:, :, np.newaxis]\n",
        "\n",
        "# 画像を表示\n",
        "plt.imshow(image_rgb_nobg), plt.axis(\"off\")\n",
        "plt.show()\n",
        "\n",
        "##########\n",
        "\n",
        "# マスクを表示\n",
        "plt.imshow(mask, cmap='gray'), plt.axis(\"off\")\n",
        "plt.show()\n",
        "\n",
        "##########\n",
        "\n",
        "# マスクを表示\n",
        "plt.imshow(mask_2, cmap='gray'), plt.axis(\"off\")\n",
        "plt.show()"
      ],
      "execution_count": 0,
      "outputs": []
    },
    {
      "cell_type": "markdown",
      "metadata": {
        "id": "ednQrAtrxd80",
        "colab_type": "text"
      },
      "source": [
        "## 8.11 Detecting Edges"
      ]
    },
    {
      "cell_type": "code",
      "metadata": {
        "id": "sT3Do9odxg3v",
        "colab_type": "code",
        "colab": {}
      },
      "source": [
        "# -*- coding: utf-8 -*-\n",
        "\n",
        "# ライブラリをロード\n",
        "import cv2\n",
        "import numpy as np\n",
        "from matplotlib import pyplot as plt\n",
        "\n",
        "# Load image as grayscale\n",
        "image_gray = cv2.imread(\"images/plane_256x256.jpg\", cv2.IMREAD_GRAYSCALE)\n",
        "\n",
        "# 輝度の中央値を計算\n",
        "median_intensity = np.median(image_gray)\n",
        "\n",
        "# 中央値から1標準偏差分上と下を閾値として設定\n",
        "lower_threshold = int(max(0, (1.0 - 0.33) * median_intensity))\n",
        "upper_threshold = int(min(255, (1.0 + 0.33) * median_intensity))\n",
        "\n",
        "# Cannyエッジ検出を適用\n",
        "image_canny = cv2.Canny(image_gray, lower_threshold, upper_threshold)\n",
        "\n",
        "# 画像を表示\n",
        "plt.imshow(image_canny, cmap=\"gray\"), plt.axis(\"off\")\n",
        "plt.show()\n",
        "\n",
        "##########"
      ],
      "execution_count": 0,
      "outputs": []
    },
    {
      "cell_type": "markdown",
      "metadata": {
        "id": "7iI-UaYVx-hl",
        "colab_type": "text"
      },
      "source": [
        "## 8.12 Detecting Corners"
      ]
    },
    {
      "cell_type": "code",
      "metadata": {
        "id": "kd812J01yDQ6",
        "colab_type": "code",
        "colab": {}
      },
      "source": [
        "# -*- coding: utf-8 -*-\n",
        "\n",
        "# ライブラリをロード\n",
        "import cv2\n",
        "import numpy as np\n",
        "from matplotlib import pyplot as plt\n",
        "\n",
        "# モノクロで画像を読み込み\n",
        "image_bgr = cv2.imread(\"images/plane_256x256.jpg\")\n",
        "image_gray = cv2.cvtColor(image_bgr, cv2.COLOR_BGR2GRAY)\n",
        "image_gray = np.float32(image_gray)\n",
        "\n",
        "# コーナー検出のパラメータを設定\n",
        "block_size = 2\n",
        "aperture = 29\n",
        "free_parameter = 0.04\n",
        "\n",
        "# コーナー検出\n",
        "detector_responses = cv2.cornerHarris(image_gray,\n",
        "                                      block_size,\n",
        "                                      aperture,\n",
        "                                      free_parameter)\n",
        "\n",
        "# コーナー部分を強調\n",
        "# Large corner markers\n",
        "detector_responses = cv2.dilate(detector_responses, None)\n",
        "\n",
        "# 検出器の反応が閾値以上に大きい場所だけを保持して、白くする\n",
        "threshold = 0.02\n",
        "image_bgr[detector_responses >\n",
        "          threshold *\n",
        "          detector_responses.max()] = [255,255,255]\n",
        "\n",
        "# モノクロに変換\n",
        "image_gray = cv2.cvtColor(image_bgr, cv2.COLOR_BGR2GRAY)\n",
        "\n",
        "# 画像を表示\n",
        "plt.imshow(image_gray, cmap=\"gray\"), plt.axis(\"off\")\n",
        "plt.show()\n",
        "\n",
        "##########\n",
        "\n",
        "# コーナーの候補を表示\n",
        "plt.imshow(detector_responses, cmap='gray'), plt.axis(\"off\")\n",
        "plt.show()\n",
        "\n",
        "##########\n",
        "\n",
        "# 画像をロード\n",
        "image_bgr = cv2.imread('images/plane_256x256.jpg')\n",
        "image_gray = cv2.cvtColor(image_bgr, cv2.COLOR_BGR2GRAY)\n",
        "\n",
        "# 検出したいコーナーの数\n",
        "corners_to_detect = 10\n",
        "minimum_quality_score = 0.05\n",
        "minimum_distance = 25\n",
        "\n",
        "# コーナーを検出\n",
        "corners = cv2.goodFeaturesToTrack(image_gray,\n",
        "                                  corners_to_detect,\n",
        "                                  minimum_quality_score,\n",
        "                                  minimum_distance)\n",
        "corners = np.float32(corners)\n",
        "\n",
        "# 各コーナーに白い円を描画\n",
        "for corner in corners:\n",
        "    x, y = corner[0]\n",
        "    cv2.circle(image_bgr, (x,y), 10, (255,255,255), -1)\n",
        "\n",
        "# モノクロで画像を読み込み\n",
        "image_rgb = cv2.cvtColor(image_bgr, cv2.COLOR_BGR2GRAY)\n",
        "\n",
        "# 画像を表示\n",
        "plt.imshow(image_rgb, cmap='gray'), plt.axis(\"off\")\n",
        "plt.show()"
      ],
      "execution_count": 0,
      "outputs": []
    },
    {
      "cell_type": "markdown",
      "metadata": {
        "id": "ffsBPabJyK0H",
        "colab_type": "text"
      },
      "source": [
        "## 8.13 Detecting features for Machine Learning"
      ]
    },
    {
      "cell_type": "code",
      "metadata": {
        "id": "UnI2Tn-oyi6d",
        "colab_type": "code",
        "colab": {}
      },
      "source": [
        "# -*- coding: utf-8 -*-\n",
        "\n",
        "# ライブラリをロード\n",
        "import cv2\n",
        "import numpy as np\n",
        "from matplotlib import pyplot as plt\n",
        "\n",
        "# モノクロで画像読み込み\n",
        "image = cv2.imread(\"images/plane_256x256.jpg\", cv2.IMREAD_GRAYSCALE)\n",
        "\n",
        "# 10x10ピクセルにサイズ変換\n",
        "image_10x10 = cv2.resize(image, (10, 10))\n",
        "\n",
        "# 1次元ベクトルに変換\n",
        "image_10x10.flatten()\n",
        "\n",
        "##########\n",
        "\n",
        "plt.imshow(image_10x10, cmap=\"gray\"), plt.axis(\"off\")\n",
        "plt.show()\n",
        "\n",
        "##########\n",
        "\n",
        "image_10x10.shape\n",
        "\n",
        "##########\n",
        "\n",
        "image_10x10.flatten().shape\n",
        "\n",
        "##########\n",
        "\n",
        "# カラーで画像をロード\n",
        "image_color = cv2.imread(\"images/plane_256x256.jpg\", cv2.IMREAD_COLOR)\n",
        "\n",
        "# 10x10ピクセルにサイズ変換\n",
        "image_color_10x10 = cv2.resize(image_color, (10, 10))\n",
        "\n",
        "# 1次元のベクトルに変換して、形を表示\n",
        "image_color_10x10.flatten().shape\n",
        "\n",
        "##########\n",
        "\n",
        "# モノクロで画像を読み込み\n",
        "image_256x256_gray = cv2.imread(\"images/plane_256x256.jpg\", cv2.IMREAD_GRAYSCALE)\n",
        "\n",
        "# 1次元のベクトルに変換して、形を表示\n",
        "image_256x256_gray.flatten().shape"
      ],
      "execution_count": 0,
      "outputs": []
    },
    {
      "cell_type": "markdown",
      "metadata": {
        "id": "NQbFfsZkyowS",
        "colab_type": "text"
      },
      "source": [
        "## 8.14 Encoding Mean color as a feature"
      ]
    },
    {
      "cell_type": "code",
      "metadata": {
        "id": "S3xk7CRKyydQ",
        "colab_type": "code",
        "colab": {}
      },
      "source": [
        "# -*- coding: utf-8 -*-\n",
        "\n",
        "# ライブラリをロード\n",
        "import cv2\n",
        "import numpy as np\n",
        "from matplotlib import pyplot as plt\n",
        "\n",
        "# BGRで画像をロード\n",
        "image_bgr = cv2.imread(\"images/plane_256x256.jpg\", cv2.IMREAD_COLOR)\n",
        "\n",
        "# 各チャンネルの平均を計算\n",
        "channels = cv2.mean(image_bgr)\n",
        "\n",
        "# 青と赤の値を入れ替え(BGRからRGBへ変換)\n",
        "observation = np.array([[(channels[2], channels[1], channels[0])]])\n",
        "\n",
        "# 平均色を表示\n",
        "observation\n",
        "\n",
        "##########\n",
        "\n",
        "# 画像を表示\n",
        "plt.imshow(observation / 255.0), plt.axis(\"off\")\n",
        "plt.show()"
      ],
      "execution_count": 0,
      "outputs": []
    },
    {
      "cell_type": "markdown",
      "metadata": {
        "id": "2qUPVU31y6gI",
        "colab_type": "text"
      },
      "source": [
        "## 8.15 Encoding Color Histograms as Features"
      ]
    },
    {
      "cell_type": "code",
      "metadata": {
        "id": "Mb0Vpb11zCds",
        "colab_type": "code",
        "colab": {}
      },
      "source": [
        "# -*- coding: utf-8 -*-\n",
        "\n",
        "# ライブラリをロード\n",
        "import cv2\n",
        "import numpy as np\n",
        "from matplotlib import pyplot as plt\n",
        "\n",
        "# 画像をロード\n",
        "image_bgr = cv2.imread(\"images/plane_256x256.jpg\", cv2.IMREAD_COLOR)\n",
        "\n",
        "# RGBに変換\n",
        "image_rgb = cv2.cvtColor(image_bgr, cv2.COLOR_BGR2RGB)\n",
        "\n",
        "# 特徴量値を格納するリストを作成\n",
        "features = []\n",
        "\n",
        "# それぞれの色チャンネルに対してヒストグラムを計算\n",
        "colors = (\"r\",\"g\",\"b\")\n",
        "\n",
        "# それぞれの色チャンネルに対してヒストグラムを計算して特徴量値のリストに追加\n",
        "for i, channel in enumerate(colors):\n",
        "    histogram = cv2.calcHist([image_rgb],  # 画像\n",
        "                        [i],               # チャンネルのインデックス\n",
        "                        None,              # マスクは用いない\n",
        "                        [256],             # ヒストグラムの大きさ\n",
        "                        [0,256])           # 範囲\n",
        "    features.extend(histogram)\n",
        "\n",
        "# 観測値の特徴量値となるベクタを作成\n",
        "observation = np.array(features).flatten()\n",
        "\n",
        "# 観測値の最初の5つの特徴量を表示\n",
        "# Show the observation's value for the first five features\n",
        "observation[0:5]\n",
        "\n",
        "##########\n",
        "\n",
        "# RGBチャンネル値を表示\n",
        "image_rgb[0,0]\n",
        "\n",
        "##########\n",
        "\n",
        "# pandasをインポート\n",
        "import pandas as pd\n",
        "\n",
        "# データを作成\n",
        "data = pd.Series([1, 1, 2, 2, 3, 3, 3, 4, 5])\n",
        "\n",
        "# ヒストグラムを表示\n",
        "data.hist(grid=False)\n",
        "plt.show()\n",
        "\n",
        "##########\n",
        "\n",
        "# それぞれの色チャンネルに対してヒストグラムを計算\n",
        "colors = (\"r\",\"g\",\"b\")\n",
        "\n",
        "# それぞれの色チャンネルに対して： ヒストグラムを計算してプロット\n",
        "for i, channel in enumerate(colors):\n",
        "    histogram = cv2.calcHist([image_rgb],  # 画像\n",
        "                        [i],               # チャンネルのインデックス\n",
        "                        None,              # マスクは用いない\n",
        "                        [256],             # ヒストグラムの大きさ\n",
        "                        [0,256])           # 範囲\n",
        "    plt.plot(histogram, color = channel)\n",
        "    plt.xlim([0,256])\n",
        "\n",
        "# プロットしたものを表示\n",
        "plt.show()"
      ],
      "execution_count": 0,
      "outputs": []
    }
  ]
}