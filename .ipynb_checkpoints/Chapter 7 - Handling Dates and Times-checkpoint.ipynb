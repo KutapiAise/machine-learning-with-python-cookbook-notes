{
  "nbformat": 4,
  "nbformat_minor": 0,
  "metadata": {
    "kernelspec": {
      "display_name": "Python [conda env:machine_learning_cookbook]",
      "language": "python",
      "name": "conda-env-machine_learning_cookbook-py"
    },
    "language_info": {
      "codemirror_mode": {
        "name": "ipython",
        "version": 3
      },
      "file_extension": ".py",
      "mimetype": "text/x-python",
      "name": "python",
      "nbconvert_exporter": "python",
      "pygments_lexer": "ipython3",
      "version": "3.6.6"
    },
    "colab": {
      "name": "Chapter 7 - Handling Dates and Times-checkpoint.ipynb",
      "provenance": []
    }
  },
  "cells": [
    {
      "cell_type": "markdown",
      "metadata": {
        "id": "dGc4mvKXbk0W",
        "colab_type": "text"
      },
      "source": [
        "## 7.1 Converting Strings to Dates"
      ]
    },
    {
      "cell_type": "code",
      "metadata": {
        "id": "RPP7m7_kbk0Z",
        "colab_type": "code",
        "colab": {
          "base_uri": "https://localhost:8080/",
          "height": 67
        },
        "outputId": "a0641e09-7132-47e4-90cd-706f251f67fd"
      },
      "source": [
        "import numpy as np\n",
        "import pandas as pd\n",
        "\n",
        "date_strings = np.array([\n",
        "    '03-04-2005 11:35 PM',\n",
        "    '23-05-2010 12:01 AM',\n",
        "    '04-09-2009 09:09 PM'\n",
        "])\n",
        "\n",
        "# convert to datetimes\n",
        "[pd.to_datetime(date, format='%d-%m-%Y %I:%M %p') for date in date_strings]"
      ],
      "execution_count": 2,
      "outputs": [
        {
          "output_type": "execute_result",
          "data": {
            "text/plain": [
              "[Timestamp('2005-04-03 23:35:00'),\n",
              " Timestamp('2010-05-23 00:01:00'),\n",
              " Timestamp('2009-09-04 21:09:00')]"
            ]
          },
          "metadata": {
            "tags": []
          },
          "execution_count": 2
        }
      ]
    },
    {
      "cell_type": "code",
      "metadata": {
        "id": "1d6LF2Zybk0d",
        "colab_type": "code",
        "colab": {
          "base_uri": "https://localhost:8080/",
          "height": 67
        },
        "outputId": "22262c4d-6be6-4114-cc7a-d7d170dfbd47"
      },
      "source": [
        "[pd.to_datetime(date, format='%d-%m-%Y %I:%M %p', errors='coerce') for date in date_strings]"
      ],
      "execution_count": 3,
      "outputs": [
        {
          "output_type": "execute_result",
          "data": {
            "text/plain": [
              "[Timestamp('2005-04-03 23:35:00'),\n",
              " Timestamp('2010-05-23 00:01:00'),\n",
              " Timestamp('2009-09-04 21:09:00')]"
            ]
          },
          "metadata": {
            "tags": []
          },
          "execution_count": 3
        }
      ]
    },
    {
      "cell_type": "markdown",
      "metadata": {
        "id": "671Qaierbk0g",
        "colab_type": "text"
      },
      "source": [
        "### See Also\n",
        "* http://strftime.org/\n",
        "\n",
        "## 7.2 Handling Time Zones"
      ]
    },
    {
      "cell_type": "code",
      "metadata": {
        "id": "5v59Ss3Kbk0h",
        "colab_type": "code",
        "colab": {
          "base_uri": "https://localhost:8080/",
          "height": 34
        },
        "outputId": "3c519d0a-6d07-4533-cea0-65a32039372f"
      },
      "source": [
        "import pandas as pd\n",
        "\n",
        "pd.Timestamp('2017-05-01 06:00:00', tz='Europe/London')"
      ],
      "execution_count": 4,
      "outputs": [
        {
          "output_type": "execute_result",
          "data": {
            "text/plain": [
              "Timestamp('2017-05-01 06:00:00+0100', tz='Europe/London')"
            ]
          },
          "metadata": {
            "tags": []
          },
          "execution_count": 4
        }
      ]
    },
    {
      "cell_type": "code",
      "metadata": {
        "id": "4u2PBv13bk0k",
        "colab_type": "code",
        "colab": {
          "base_uri": "https://localhost:8080/",
          "height": 34
        },
        "outputId": "3929759f-895e-4862-ce4e-1fdf36166daf"
      },
      "source": [
        "date = pd.Timestamp('2017-05-01 06:00:00')\n",
        "\n",
        "date_in_london = date.tz_localize('Europe/London')\n",
        "\n",
        "date_in_london"
      ],
      "execution_count": 5,
      "outputs": [
        {
          "output_type": "execute_result",
          "data": {
            "text/plain": [
              "Timestamp('2017-05-01 06:00:00+0100', tz='Europe/London')"
            ]
          },
          "metadata": {
            "tags": []
          },
          "execution_count": 5
        }
      ]
    },
    {
      "cell_type": "code",
      "metadata": {
        "id": "0fP3dpa0bk0o",
        "colab_type": "code",
        "colab": {
          "base_uri": "https://localhost:8080/",
          "height": 34
        },
        "outputId": "15567d25-1fdf-43d1-d8c1-94d2c25adf89"
      },
      "source": [
        "date_in_london.tz_convert('Africa/Abidjan')"
      ],
      "execution_count": 6,
      "outputs": [
        {
          "output_type": "execute_result",
          "data": {
            "text/plain": [
              "Timestamp('2017-05-01 05:00:00+0000', tz='Africa/Abidjan')"
            ]
          },
          "metadata": {
            "tags": []
          },
          "execution_count": 6
        }
      ]
    },
    {
      "cell_type": "code",
      "metadata": {
        "id": "ZbPgAj88bk0r",
        "colab_type": "code",
        "colab": {
          "base_uri": "https://localhost:8080/",
          "height": 84
        },
        "outputId": "59d8ae4b-8ce7-4397-d175-079612882ce7"
      },
      "source": [
        "dates = pd.Series(pd.date_range('2/2/2002', periods=3, freq='M'))\n",
        " \n",
        "dates.dt.tz_localize('Africa/Abidjan')"
      ],
      "execution_count": 7,
      "outputs": [
        {
          "output_type": "execute_result",
          "data": {
            "text/plain": [
              "0   2002-02-28 00:00:00+00:00\n",
              "1   2002-03-31 00:00:00+00:00\n",
              "2   2002-04-30 00:00:00+00:00\n",
              "dtype: datetime64[ns, Africa/Abidjan]"
            ]
          },
          "metadata": {
            "tags": []
          },
          "execution_count": 7
        }
      ]
    },
    {
      "cell_type": "code",
      "metadata": {
        "id": "hvODH8Shu2vl",
        "colab_type": "code",
        "colab": {
          "base_uri": "https://localhost:8080/",
          "height": 34
        },
        "outputId": "2065dbbb-fe57-4db9-ebbb-b5432802cc95"
      },
      "source": [
        "from pytz import all_timezones\n",
        "\n",
        "all_timezones[0:2]"
      ],
      "execution_count": 8,
      "outputs": [
        {
          "output_type": "execute_result",
          "data": {
            "text/plain": [
              "['Africa/Abidjan', 'Africa/Accra']"
            ]
          },
          "metadata": {
            "tags": []
          },
          "execution_count": 8
        }
      ]
    },
    {
      "cell_type": "markdown",
      "metadata": {
        "id": "EHbyx751bk0v",
        "colab_type": "text"
      },
      "source": [
        "## 7.3 Selecting Dates and Times\n"
      ]
    },
    {
      "cell_type": "code",
      "metadata": {
        "id": "0P_DPILmvhzZ",
        "colab_type": "code",
        "colab": {
          "base_uri": "https://localhost:8080/",
          "height": 371
        },
        "outputId": "85007656-2876-460d-d1a9-0b5a7a40cc2e"
      },
      "source": [
        "import pandas as pd\n",
        "\n",
        "dataframe =pd.DataFrame()\n",
        "\n",
        "#create datetimes\n",
        "dataframe['date']= pd.date_range('1/1/2020', periods=100000, freq ='H')\n",
        "\n",
        "print(dataframe)\n",
        "#select observations between 2 datetimes\n",
        "dataframe[(dataframe['date'] > '2020-1-1 01:00:00') & (dataframe['date'] <= '2020-1-1 04:00:00') ]\n",
        "\n"
      ],
      "execution_count": 9,
      "outputs": [
        {
          "output_type": "stream",
          "text": [
            "                     date\n",
            "0     2020-01-01 00:00:00\n",
            "1     2020-01-01 01:00:00\n",
            "2     2020-01-01 02:00:00\n",
            "3     2020-01-01 03:00:00\n",
            "4     2020-01-01 04:00:00\n",
            "...                   ...\n",
            "99995 2031-05-29 11:00:00\n",
            "99996 2031-05-29 12:00:00\n",
            "99997 2031-05-29 13:00:00\n",
            "99998 2031-05-29 14:00:00\n",
            "99999 2031-05-29 15:00:00\n",
            "\n",
            "[100000 rows x 1 columns]\n"
          ],
          "name": "stdout"
        },
        {
          "output_type": "execute_result",
          "data": {
            "text/html": [
              "<div>\n",
              "<style scoped>\n",
              "    .dataframe tbody tr th:only-of-type {\n",
              "        vertical-align: middle;\n",
              "    }\n",
              "\n",
              "    .dataframe tbody tr th {\n",
              "        vertical-align: top;\n",
              "    }\n",
              "\n",
              "    .dataframe thead th {\n",
              "        text-align: right;\n",
              "    }\n",
              "</style>\n",
              "<table border=\"1\" class=\"dataframe\">\n",
              "  <thead>\n",
              "    <tr style=\"text-align: right;\">\n",
              "      <th></th>\n",
              "      <th>date</th>\n",
              "    </tr>\n",
              "  </thead>\n",
              "  <tbody>\n",
              "    <tr>\n",
              "      <th>2</th>\n",
              "      <td>2020-01-01 02:00:00</td>\n",
              "    </tr>\n",
              "    <tr>\n",
              "      <th>3</th>\n",
              "      <td>2020-01-01 03:00:00</td>\n",
              "    </tr>\n",
              "    <tr>\n",
              "      <th>4</th>\n",
              "      <td>2020-01-01 04:00:00</td>\n",
              "    </tr>\n",
              "  </tbody>\n",
              "</table>\n",
              "</div>"
            ],
            "text/plain": [
              "                 date\n",
              "2 2020-01-01 02:00:00\n",
              "3 2020-01-01 03:00:00\n",
              "4 2020-01-01 04:00:00"
            ]
          },
          "metadata": {
            "tags": []
          },
          "execution_count": 9
        }
      ]
    },
    {
      "cell_type": "code",
      "metadata": {
        "id": "tiMJNGiVKxuT",
        "colab_type": "code",
        "colab": {
          "base_uri": "https://localhost:8080/",
          "height": 195
        },
        "outputId": "83f5f078-1e8e-4b30-dffe-ee97aea5d87c"
      },
      "source": [
        "#alternatively we can set the date column as the dataframe's index and then slice using loc:\n",
        "\n",
        "#set index\n",
        "dataframe=dataframe.set_index(dataframe['date'])\n",
        "\n",
        "#select observations between 2 datetimes\n",
        "\n",
        "dataframe.loc['2020-1-1 01:00:00':'2020-1-1 04:00:00']"
      ],
      "execution_count": 10,
      "outputs": [
        {
          "output_type": "execute_result",
          "data": {
            "text/html": [
              "<div>\n",
              "<style scoped>\n",
              "    .dataframe tbody tr th:only-of-type {\n",
              "        vertical-align: middle;\n",
              "    }\n",
              "\n",
              "    .dataframe tbody tr th {\n",
              "        vertical-align: top;\n",
              "    }\n",
              "\n",
              "    .dataframe thead th {\n",
              "        text-align: right;\n",
              "    }\n",
              "</style>\n",
              "<table border=\"1\" class=\"dataframe\">\n",
              "  <thead>\n",
              "    <tr style=\"text-align: right;\">\n",
              "      <th></th>\n",
              "      <th>date</th>\n",
              "    </tr>\n",
              "    <tr>\n",
              "      <th>date</th>\n",
              "      <th></th>\n",
              "    </tr>\n",
              "  </thead>\n",
              "  <tbody>\n",
              "    <tr>\n",
              "      <th>2020-01-01 01:00:00</th>\n",
              "      <td>2020-01-01 01:00:00</td>\n",
              "    </tr>\n",
              "    <tr>\n",
              "      <th>2020-01-01 02:00:00</th>\n",
              "      <td>2020-01-01 02:00:00</td>\n",
              "    </tr>\n",
              "    <tr>\n",
              "      <th>2020-01-01 03:00:00</th>\n",
              "      <td>2020-01-01 03:00:00</td>\n",
              "    </tr>\n",
              "    <tr>\n",
              "      <th>2020-01-01 04:00:00</th>\n",
              "      <td>2020-01-01 04:00:00</td>\n",
              "    </tr>\n",
              "  </tbody>\n",
              "</table>\n",
              "</div>"
            ],
            "text/plain": [
              "                                   date\n",
              "date                                   \n",
              "2020-01-01 01:00:00 2020-01-01 01:00:00\n",
              "2020-01-01 02:00:00 2020-01-01 02:00:00\n",
              "2020-01-01 03:00:00 2020-01-01 03:00:00\n",
              "2020-01-01 04:00:00 2020-01-01 04:00:00"
            ]
          },
          "metadata": {
            "tags": []
          },
          "execution_count": 10
        }
      ]
    },
    {
      "cell_type": "markdown",
      "metadata": {
        "id": "hljxxVVhvifh",
        "colab_type": "text"
      },
      "source": [
        "## 7.4 Breaking Up Date Data into Multiple Features\n"
      ]
    },
    {
      "cell_type": "code",
      "metadata": {
        "id": "JQ0HNb6Lvj7y",
        "colab_type": "code",
        "colab": {
          "base_uri": "https://localhost:8080/",
          "height": 136
        },
        "outputId": "7e34d603-0483-413d-b669-dc1c372a2127"
      },
      "source": [
        "import pandas as pd\n",
        "\n",
        "dataframe =pd.DataFrame()\n",
        "\n",
        "#create 5 datetimes\n",
        "dataframe['date']= pd.date_range('1/1/2020', periods=150, freq ='W')\n",
        "\n",
        "#select observations between 2 datetimes\n",
        "dataframe[(dataframe['date'] > '2020-1-1 01:00:00') & (dataframe['date'] <= '2020-1-1 04:00:00') ]\n",
        "\n",
        "#create features for year,month,day,hour and minute\n",
        "\n",
        "dataframe['year']=dataframe['date'].dt.year\n",
        "dataframe['month']=dataframe['date'].dt.month\n",
        "dataframe['day']=dataframe['date'].dt.day\n",
        "dataframe['hour']=dataframe['date'].dt.hour\n",
        "dataframe['minute']=dataframe['date'].dt.minute\n",
        "\n",
        "dataframe.head(3)\n"
      ],
      "execution_count": 11,
      "outputs": [
        {
          "output_type": "execute_result",
          "data": {
            "text/html": [
              "<div>\n",
              "<style scoped>\n",
              "    .dataframe tbody tr th:only-of-type {\n",
              "        vertical-align: middle;\n",
              "    }\n",
              "\n",
              "    .dataframe tbody tr th {\n",
              "        vertical-align: top;\n",
              "    }\n",
              "\n",
              "    .dataframe thead th {\n",
              "        text-align: right;\n",
              "    }\n",
              "</style>\n",
              "<table border=\"1\" class=\"dataframe\">\n",
              "  <thead>\n",
              "    <tr style=\"text-align: right;\">\n",
              "      <th></th>\n",
              "      <th>date</th>\n",
              "      <th>year</th>\n",
              "      <th>month</th>\n",
              "      <th>day</th>\n",
              "      <th>hour</th>\n",
              "      <th>minute</th>\n",
              "    </tr>\n",
              "  </thead>\n",
              "  <tbody>\n",
              "    <tr>\n",
              "      <th>0</th>\n",
              "      <td>2020-01-05</td>\n",
              "      <td>2020</td>\n",
              "      <td>1</td>\n",
              "      <td>5</td>\n",
              "      <td>0</td>\n",
              "      <td>0</td>\n",
              "    </tr>\n",
              "    <tr>\n",
              "      <th>1</th>\n",
              "      <td>2020-01-12</td>\n",
              "      <td>2020</td>\n",
              "      <td>1</td>\n",
              "      <td>12</td>\n",
              "      <td>0</td>\n",
              "      <td>0</td>\n",
              "    </tr>\n",
              "    <tr>\n",
              "      <th>2</th>\n",
              "      <td>2020-01-19</td>\n",
              "      <td>2020</td>\n",
              "      <td>1</td>\n",
              "      <td>19</td>\n",
              "      <td>0</td>\n",
              "      <td>0</td>\n",
              "    </tr>\n",
              "  </tbody>\n",
              "</table>\n",
              "</div>"
            ],
            "text/plain": [
              "        date  year  month  day  hour  minute\n",
              "0 2020-01-05  2020      1    5     0       0\n",
              "1 2020-01-12  2020      1   12     0       0\n",
              "2 2020-01-19  2020      1   19     0       0"
            ]
          },
          "metadata": {
            "tags": []
          },
          "execution_count": 11
        }
      ]
    },
    {
      "cell_type": "markdown",
      "metadata": {
        "id": "DMEEeFovvkcc",
        "colab_type": "text"
      },
      "source": [
        "## 7.5 Calculating the Difference Between Dates\n"
      ]
    },
    {
      "cell_type": "code",
      "metadata": {
        "id": "69sA1strvmTP",
        "colab_type": "code",
        "colab": {
          "base_uri": "https://localhost:8080/",
          "height": 84
        },
        "outputId": "43a933cb-0e4b-4f24-c395-1e9d256baaac"
      },
      "source": [
        "import pandas as pd\n",
        "dataframe =pd.DataFrame()\n",
        "\n",
        "#create 2 datetime\n",
        "\n",
        "dataframe['Arrived']= [pd.Timestamp('01-01-2020'), pd.Timestamp('01-04-2020')]\n",
        "dataframe['Left']= [pd.Timestamp('01-01-2020'), pd.Timestamp('01-06-2020')]\n",
        "\n",
        "#calculate duration between features\n",
        "delta = dataframe['Left']-dataframe['Arrived']\n",
        "print(delta)\n",
        "print(delta.dtype)\n"
      ],
      "execution_count": 15,
      "outputs": [
        {
          "output_type": "stream",
          "text": [
            "0   0 days\n",
            "1   2 days\n",
            "dtype: timedelta64[ns]\n",
            "timedelta64[ns]\n"
          ],
          "name": "stdout"
        }
      ]
    },
    {
      "cell_type": "code",
      "metadata": {
        "id": "USXIwj06Or3L",
        "colab_type": "code",
        "colab": {
          "base_uri": "https://localhost:8080/",
          "height": 67
        },
        "outputId": "4ea7c6e7-9510-40f8-924b-aab30d978b3e"
      },
      "source": [
        "#often we want to remove the days in the output and keep only the numerical value\n",
        "pd.Series( delta.days for delta in (dataframe['Left']-dataframe['Arrived']))"
      ],
      "execution_count": 13,
      "outputs": [
        {
          "output_type": "execute_result",
          "data": {
            "text/plain": [
              "0    0\n",
              "1    2\n",
              "dtype: int64"
            ]
          },
          "metadata": {
            "tags": []
          },
          "execution_count": 13
        }
      ]
    },
    {
      "cell_type": "markdown",
      "metadata": {
        "id": "tnVRd9O1vmvQ",
        "colab_type": "text"
      },
      "source": [
        "## 7.6 Encoding Days of the Week\n"
      ]
    },
    {
      "cell_type": "code",
      "metadata": {
        "id": "rO_6WLravom_",
        "colab_type": "code",
        "colab": {
          "base_uri": "https://localhost:8080/",
          "height": 84
        },
        "outputId": "3d462823-4bf9-4be2-bb0b-765b68d50c8a"
      },
      "source": [
        "import pandas as pd\n",
        "\n",
        "dataframe =pd.DataFrame()\n",
        "\n",
        "#create  datetimes\n",
        "dataframe['date']= pd.date_range('2/2/2020', periods=3, freq ='M')\n",
        "\n",
        "#show the days of the week\n",
        "dates.dt.weekday_name\n"
      ],
      "execution_count": 16,
      "outputs": [
        {
          "output_type": "execute_result",
          "data": {
            "text/plain": [
              "0    Thursday\n",
              "1      Sunday\n",
              "2     Tuesday\n",
              "dtype: object"
            ]
          },
          "metadata": {
            "tags": []
          },
          "execution_count": 16
        }
      ]
    },
    {
      "cell_type": "code",
      "metadata": {
        "id": "GH-Qb7KhQY4k",
        "colab_type": "code",
        "colab": {
          "base_uri": "https://localhost:8080/",
          "height": 84
        },
        "outputId": "58943f36-6f8a-4436-c2b5-ccd21ac3d5e9"
      },
      "source": [
        "#since numerical values are more useful features in ML, use weekday attributw ti represent the days of the week as an integer\n",
        "\n",
        "dates.dt.weekday #knowing the weekday is useful es: if we want to compare total sales on sundays for the past 3 years\n"
      ],
      "execution_count": 17,
      "outputs": [
        {
          "output_type": "execute_result",
          "data": {
            "text/plain": [
              "0    3\n",
              "1    6\n",
              "2    1\n",
              "dtype: int64"
            ]
          },
          "metadata": {
            "tags": []
          },
          "execution_count": 17
        }
      ]
    },
    {
      "cell_type": "markdown",
      "metadata": {
        "id": "DnXJ687rvo-w",
        "colab_type": "text"
      },
      "source": [
        "## 7.7 Creating Lagged Feature\n"
      ]
    },
    {
      "cell_type": "code",
      "metadata": {
        "id": "QujUiEihvqeG",
        "colab_type": "code",
        "colab": {
          "base_uri": "https://localhost:8080/",
          "height": 195
        },
        "outputId": "4410bfc0-e35e-4d9f-9d3e-2265f3f8574f"
      },
      "source": [
        "import pandas as pd\n",
        "\n",
        "dataframe =pd.DataFrame()\n",
        "\n",
        "#create 5 datetimes\n",
        "dataframe['date']= pd.date_range('1/1/2020', periods=5, freq ='D')\n",
        "dataframe['stock_price']=[1.1,2.2,3.3,4.4,5.5]\n",
        "\n",
        "#lagged values by one row\n",
        "dataframe['previous_days_stocl_price']=dataframe['stock_price'].shift(1)  #lagging a feature\n",
        "\n",
        "dataframe\n"
      ],
      "execution_count": 18,
      "outputs": [
        {
          "output_type": "execute_result",
          "data": {
            "text/html": [
              "<div>\n",
              "<style scoped>\n",
              "    .dataframe tbody tr th:only-of-type {\n",
              "        vertical-align: middle;\n",
              "    }\n",
              "\n",
              "    .dataframe tbody tr th {\n",
              "        vertical-align: top;\n",
              "    }\n",
              "\n",
              "    .dataframe thead th {\n",
              "        text-align: right;\n",
              "    }\n",
              "</style>\n",
              "<table border=\"1\" class=\"dataframe\">\n",
              "  <thead>\n",
              "    <tr style=\"text-align: right;\">\n",
              "      <th></th>\n",
              "      <th>date</th>\n",
              "      <th>stock_price</th>\n",
              "      <th>previous_days_stocl_price</th>\n",
              "    </tr>\n",
              "  </thead>\n",
              "  <tbody>\n",
              "    <tr>\n",
              "      <th>0</th>\n",
              "      <td>2020-01-01</td>\n",
              "      <td>1.1</td>\n",
              "      <td>NaN</td>\n",
              "    </tr>\n",
              "    <tr>\n",
              "      <th>1</th>\n",
              "      <td>2020-01-02</td>\n",
              "      <td>2.2</td>\n",
              "      <td>1.1</td>\n",
              "    </tr>\n",
              "    <tr>\n",
              "      <th>2</th>\n",
              "      <td>2020-01-03</td>\n",
              "      <td>3.3</td>\n",
              "      <td>2.2</td>\n",
              "    </tr>\n",
              "    <tr>\n",
              "      <th>3</th>\n",
              "      <td>2020-01-04</td>\n",
              "      <td>4.4</td>\n",
              "      <td>3.3</td>\n",
              "    </tr>\n",
              "    <tr>\n",
              "      <th>4</th>\n",
              "      <td>2020-01-05</td>\n",
              "      <td>5.5</td>\n",
              "      <td>4.4</td>\n",
              "    </tr>\n",
              "  </tbody>\n",
              "</table>\n",
              "</div>"
            ],
            "text/plain": [
              "        date  stock_price  previous_days_stocl_price\n",
              "0 2020-01-01          1.1                        NaN\n",
              "1 2020-01-02          2.2                        1.1\n",
              "2 2020-01-03          3.3                        2.2\n",
              "3 2020-01-04          4.4                        3.3\n",
              "4 2020-01-05          5.5                        4.4"
            ]
          },
          "metadata": {
            "tags": []
          },
          "execution_count": 18
        }
      ]
    },
    {
      "cell_type": "markdown",
      "metadata": {
        "id": "x28at3tdvq-x",
        "colab_type": "text"
      },
      "source": [
        "## 7.8 Using Rolling Time Windows"
      ]
    },
    {
      "cell_type": "code",
      "metadata": {
        "id": "re5QmAijbk0w",
        "colab_type": "code",
        "colab": {
          "base_uri": "https://localhost:8080/",
          "height": 296
        },
        "outputId": "ee59b809-fc95-44f1-b6f4-501cb4cca045"
      },
      "source": [
        "import pandas as pd\n",
        "\n",
        "time_index = pd.date_range('01/01/2010', periods=5, freq='M')\n",
        "\n",
        "df = pd.DataFrame(index=time_index)\n",
        "df['Stock_Price'] = [1,2,3,4,5]\n",
        "print(df)\n",
        "df.rolling(window=2).mean()  #mean(), count(), max(), corr()\n",
        "\n",
        "#How to understnd rolling mean?\n",
        "\n",
        "#Imagine that you have  monthly observations of a stock's price.\n",
        "#It is often useful to have a time window of certain number of months and then move over the observations \n",
        "# calculating a statistic of all observations in the time window\n",
        "\n",
        "#Rolling means are often used to smooth out time series data because using themean of the entire time window dampens the effect of short-term fluctuations."
      ],
      "execution_count": 19,
      "outputs": [
        {
          "output_type": "stream",
          "text": [
            "            Stock_Price\n",
            "2010-01-31            1\n",
            "2010-02-28            2\n",
            "2010-03-31            3\n",
            "2010-04-30            4\n",
            "2010-05-31            5\n"
          ],
          "name": "stdout"
        },
        {
          "output_type": "execute_result",
          "data": {
            "text/html": [
              "<div>\n",
              "<style scoped>\n",
              "    .dataframe tbody tr th:only-of-type {\n",
              "        vertical-align: middle;\n",
              "    }\n",
              "\n",
              "    .dataframe tbody tr th {\n",
              "        vertical-align: top;\n",
              "    }\n",
              "\n",
              "    .dataframe thead th {\n",
              "        text-align: right;\n",
              "    }\n",
              "</style>\n",
              "<table border=\"1\" class=\"dataframe\">\n",
              "  <thead>\n",
              "    <tr style=\"text-align: right;\">\n",
              "      <th></th>\n",
              "      <th>Stock_Price</th>\n",
              "    </tr>\n",
              "  </thead>\n",
              "  <tbody>\n",
              "    <tr>\n",
              "      <th>2010-01-31</th>\n",
              "      <td>NaN</td>\n",
              "    </tr>\n",
              "    <tr>\n",
              "      <th>2010-02-28</th>\n",
              "      <td>1.5</td>\n",
              "    </tr>\n",
              "    <tr>\n",
              "      <th>2010-03-31</th>\n",
              "      <td>2.5</td>\n",
              "    </tr>\n",
              "    <tr>\n",
              "      <th>2010-04-30</th>\n",
              "      <td>3.5</td>\n",
              "    </tr>\n",
              "    <tr>\n",
              "      <th>2010-05-31</th>\n",
              "      <td>4.5</td>\n",
              "    </tr>\n",
              "  </tbody>\n",
              "</table>\n",
              "</div>"
            ],
            "text/plain": [
              "            Stock_Price\n",
              "2010-01-31          NaN\n",
              "2010-02-28          1.5\n",
              "2010-03-31          2.5\n",
              "2010-04-30          3.5\n",
              "2010-05-31          4.5"
            ]
          },
          "metadata": {
            "tags": []
          },
          "execution_count": 19
        }
      ]
    },
    {
      "cell_type": "markdown",
      "metadata": {
        "id": "QMe_JwWfbk00",
        "colab_type": "text"
      },
      "source": [
        "### See Also\n",
        "* pandas documentation: Rolling Windows (https://pandas.pydata.org/pandas-docs/stable/generated/pandas.DataFrame.rolling.html)\n",
        "* What are Moving Average or Smoothing Techniques (https://www.itl.nist.gov/div898/handbook/pmc/section4/pmc42.htm)\n",
        "\n",
        "## 7.9 Handling Missing Data in Time Series\n",
        "\n"
      ]
    },
    {
      "cell_type": "code",
      "metadata": {
        "id": "6Smqng_Mbk01",
        "colab_type": "code",
        "colab": {
          "base_uri": "https://localhost:8080/",
          "height": 195
        },
        "outputId": "3663ae30-060c-42ae-d138-2b0c91015269"
      },
      "source": [
        "import pandas as pd\n",
        "import numpy as np\n",
        "\n",
        "time_index = pd.date_range('01/01/2010', periods=5, freq='M')\n",
        "\n",
        "df = pd.DataFrame(index=time_index)\n",
        "\n",
        "df[\"Sales\"] = [1.0, 2.0, np.nan, np.nan, 5.0]\n",
        "\n",
        "\n",
        "# When we have time series data we can use interpolation to fill in gaps cused by issing values.\n",
        "df.interpolate()"
      ],
      "execution_count": 20,
      "outputs": [
        {
          "output_type": "execute_result",
          "data": {
            "text/html": [
              "<div>\n",
              "<style scoped>\n",
              "    .dataframe tbody tr th:only-of-type {\n",
              "        vertical-align: middle;\n",
              "    }\n",
              "\n",
              "    .dataframe tbody tr th {\n",
              "        vertical-align: top;\n",
              "    }\n",
              "\n",
              "    .dataframe thead th {\n",
              "        text-align: right;\n",
              "    }\n",
              "</style>\n",
              "<table border=\"1\" class=\"dataframe\">\n",
              "  <thead>\n",
              "    <tr style=\"text-align: right;\">\n",
              "      <th></th>\n",
              "      <th>Sales</th>\n",
              "    </tr>\n",
              "  </thead>\n",
              "  <tbody>\n",
              "    <tr>\n",
              "      <th>2010-01-31</th>\n",
              "      <td>1.0</td>\n",
              "    </tr>\n",
              "    <tr>\n",
              "      <th>2010-02-28</th>\n",
              "      <td>2.0</td>\n",
              "    </tr>\n",
              "    <tr>\n",
              "      <th>2010-03-31</th>\n",
              "      <td>3.0</td>\n",
              "    </tr>\n",
              "    <tr>\n",
              "      <th>2010-04-30</th>\n",
              "      <td>4.0</td>\n",
              "    </tr>\n",
              "    <tr>\n",
              "      <th>2010-05-31</th>\n",
              "      <td>5.0</td>\n",
              "    </tr>\n",
              "  </tbody>\n",
              "</table>\n",
              "</div>"
            ],
            "text/plain": [
              "            Sales\n",
              "2010-01-31    1.0\n",
              "2010-02-28    2.0\n",
              "2010-03-31    3.0\n",
              "2010-04-30    4.0\n",
              "2010-05-31    5.0"
            ]
          },
          "metadata": {
            "tags": []
          },
          "execution_count": 20
        }
      ]
    },
    {
      "cell_type": "code",
      "metadata": {
        "id": "_Lj70Qu6bk05",
        "colab_type": "code",
        "colab": {},
        "outputId": "8a75877d-cb40-487c-d100-eaf361bc60eb"
      },
      "source": [
        "#Alternaively, we can replace missing values with the last known value(i.e, forward -filling)\n",
        "\n",
        "df.ffill()"
      ],
      "execution_count": 0,
      "outputs": [
        {
          "output_type": "execute_result",
          "data": {
            "text/html": [
              "<div>\n",
              "<style scoped>\n",
              "    .dataframe tbody tr th:only-of-type {\n",
              "        vertical-align: middle;\n",
              "    }\n",
              "\n",
              "    .dataframe tbody tr th {\n",
              "        vertical-align: top;\n",
              "    }\n",
              "\n",
              "    .dataframe thead th {\n",
              "        text-align: right;\n",
              "    }\n",
              "</style>\n",
              "<table border=\"1\" class=\"dataframe\">\n",
              "  <thead>\n",
              "    <tr style=\"text-align: right;\">\n",
              "      <th></th>\n",
              "      <th>Sales</th>\n",
              "    </tr>\n",
              "  </thead>\n",
              "  <tbody>\n",
              "    <tr>\n",
              "      <th>2010-01-31</th>\n",
              "      <td>1.0</td>\n",
              "    </tr>\n",
              "    <tr>\n",
              "      <th>2010-02-28</th>\n",
              "      <td>2.0</td>\n",
              "    </tr>\n",
              "    <tr>\n",
              "      <th>2010-03-31</th>\n",
              "      <td>2.0</td>\n",
              "    </tr>\n",
              "    <tr>\n",
              "      <th>2010-04-30</th>\n",
              "      <td>2.0</td>\n",
              "    </tr>\n",
              "    <tr>\n",
              "      <th>2010-05-31</th>\n",
              "      <td>5.0</td>\n",
              "    </tr>\n",
              "  </tbody>\n",
              "</table>\n",
              "</div>"
            ],
            "text/plain": [
              "            Sales\n",
              "2010-01-31    1.0\n",
              "2010-02-28    2.0\n",
              "2010-03-31    2.0\n",
              "2010-04-30    2.0\n",
              "2010-05-31    5.0"
            ]
          },
          "metadata": {
            "tags": []
          },
          "execution_count": 12
        }
      ]
    },
    {
      "cell_type": "code",
      "metadata": {
        "id": "RAPNlK_obk0-",
        "colab_type": "code",
        "colab": {},
        "outputId": "5ceaccbf-53a0-45d6-a318-6817b800f892"
      },
      "source": [
        "#Alternaively, we can replace missing values with the latest known value(i.e, backward-filling)\n",
        "df.bfill()"
      ],
      "execution_count": 0,
      "outputs": [
        {
          "output_type": "execute_result",
          "data": {
            "text/html": [
              "<div>\n",
              "<style scoped>\n",
              "    .dataframe tbody tr th:only-of-type {\n",
              "        vertical-align: middle;\n",
              "    }\n",
              "\n",
              "    .dataframe tbody tr th {\n",
              "        vertical-align: top;\n",
              "    }\n",
              "\n",
              "    .dataframe thead th {\n",
              "        text-align: right;\n",
              "    }\n",
              "</style>\n",
              "<table border=\"1\" class=\"dataframe\">\n",
              "  <thead>\n",
              "    <tr style=\"text-align: right;\">\n",
              "      <th></th>\n",
              "      <th>Sales</th>\n",
              "    </tr>\n",
              "  </thead>\n",
              "  <tbody>\n",
              "    <tr>\n",
              "      <th>2010-01-31</th>\n",
              "      <td>1.0</td>\n",
              "    </tr>\n",
              "    <tr>\n",
              "      <th>2010-02-28</th>\n",
              "      <td>2.0</td>\n",
              "    </tr>\n",
              "    <tr>\n",
              "      <th>2010-03-31</th>\n",
              "      <td>5.0</td>\n",
              "    </tr>\n",
              "    <tr>\n",
              "      <th>2010-04-30</th>\n",
              "      <td>5.0</td>\n",
              "    </tr>\n",
              "    <tr>\n",
              "      <th>2010-05-31</th>\n",
              "      <td>5.0</td>\n",
              "    </tr>\n",
              "  </tbody>\n",
              "</table>\n",
              "</div>"
            ],
            "text/plain": [
              "            Sales\n",
              "2010-01-31    1.0\n",
              "2010-02-28    2.0\n",
              "2010-03-31    5.0\n",
              "2010-04-30    5.0\n",
              "2010-05-31    5.0"
            ]
          },
          "metadata": {
            "tags": []
          },
          "execution_count": 13
        }
      ]
    },
    {
      "cell_type": "markdown",
      "metadata": {
        "id": "A6C4tELUdXLe",
        "colab_type": "text"
      },
      "source": [
        "Interpolation is a technique used for filling gaps caused by missing values by, in effect,  drawing a line between known values brodering the gap and using that line or curve to predict reasonable values. Interpolation can be particularly helpful when the time intervals betweeen are constant, the data is not prone to noise fluctuations, and the gaps caused by missing values are small.\n",
        "\n",
        "If we believe the line between 2 known points s non linear, we can use interpolate's method to specify the interpolation method:"
      ]
    },
    {
      "cell_type": "code",
      "metadata": {
        "id": "pE4jOzZCbk1A",
        "colab_type": "code",
        "colab": {},
        "outputId": "a0e9773a-9ef7-4006-bda6-1789f72b1942"
      },
      "source": [
        "df.interpolate(method=\"quadratic\")"
      ],
      "execution_count": 0,
      "outputs": [
        {
          "output_type": "execute_result",
          "data": {
            "text/html": [
              "<div>\n",
              "<style scoped>\n",
              "    .dataframe tbody tr th:only-of-type {\n",
              "        vertical-align: middle;\n",
              "    }\n",
              "\n",
              "    .dataframe tbody tr th {\n",
              "        vertical-align: top;\n",
              "    }\n",
              "\n",
              "    .dataframe thead th {\n",
              "        text-align: right;\n",
              "    }\n",
              "</style>\n",
              "<table border=\"1\" class=\"dataframe\">\n",
              "  <thead>\n",
              "    <tr style=\"text-align: right;\">\n",
              "      <th></th>\n",
              "      <th>Sales</th>\n",
              "    </tr>\n",
              "  </thead>\n",
              "  <tbody>\n",
              "    <tr>\n",
              "      <th>2010-01-31</th>\n",
              "      <td>1.000000</td>\n",
              "    </tr>\n",
              "    <tr>\n",
              "      <th>2010-02-28</th>\n",
              "      <td>2.000000</td>\n",
              "    </tr>\n",
              "    <tr>\n",
              "      <th>2010-03-31</th>\n",
              "      <td>3.059808</td>\n",
              "    </tr>\n",
              "    <tr>\n",
              "      <th>2010-04-30</th>\n",
              "      <td>4.038069</td>\n",
              "    </tr>\n",
              "    <tr>\n",
              "      <th>2010-05-31</th>\n",
              "      <td>5.000000</td>\n",
              "    </tr>\n",
              "  </tbody>\n",
              "</table>\n",
              "</div>"
            ],
            "text/plain": [
              "               Sales\n",
              "2010-01-31  1.000000\n",
              "2010-02-28  2.000000\n",
              "2010-03-31  3.059808\n",
              "2010-04-30  4.038069\n",
              "2010-05-31  5.000000"
            ]
          },
          "metadata": {
            "tags": []
          },
          "execution_count": 14
        }
      ]
    },
    {
      "cell_type": "markdown",
      "metadata": {
        "id": "2orO_UQvgfZg",
        "colab_type": "text"
      },
      "source": [
        "Finally, there might be cases when we have large gaps of missing values and do not want to interpolate values across the entire gap. In these cases we can use limit to restrict the number of interpolated values and limit_direction to set whether to interpolate values forward from at the last known value before the gap or vice-versa:"
      ]
    },
    {
      "cell_type": "code",
      "metadata": {
        "id": "mnWuybnubk1D",
        "colab_type": "code",
        "colab": {},
        "outputId": "2e47a5e6-6229-404a-924e-93d2eb25da6f"
      },
      "source": [
        "df.interpolate(limit=1, limit_direction=\"forward\")"
      ],
      "execution_count": 0,
      "outputs": [
        {
          "output_type": "execute_result",
          "data": {
            "text/html": [
              "<div>\n",
              "<style scoped>\n",
              "    .dataframe tbody tr th:only-of-type {\n",
              "        vertical-align: middle;\n",
              "    }\n",
              "\n",
              "    .dataframe tbody tr th {\n",
              "        vertical-align: top;\n",
              "    }\n",
              "\n",
              "    .dataframe thead th {\n",
              "        text-align: right;\n",
              "    }\n",
              "</style>\n",
              "<table border=\"1\" class=\"dataframe\">\n",
              "  <thead>\n",
              "    <tr style=\"text-align: right;\">\n",
              "      <th></th>\n",
              "      <th>Sales</th>\n",
              "    </tr>\n",
              "  </thead>\n",
              "  <tbody>\n",
              "    <tr>\n",
              "      <th>2010-01-31</th>\n",
              "      <td>1.0</td>\n",
              "    </tr>\n",
              "    <tr>\n",
              "      <th>2010-02-28</th>\n",
              "      <td>2.0</td>\n",
              "    </tr>\n",
              "    <tr>\n",
              "      <th>2010-03-31</th>\n",
              "      <td>3.0</td>\n",
              "    </tr>\n",
              "    <tr>\n",
              "      <th>2010-04-30</th>\n",
              "      <td>NaN</td>\n",
              "    </tr>\n",
              "    <tr>\n",
              "      <th>2010-05-31</th>\n",
              "      <td>5.0</td>\n",
              "    </tr>\n",
              "  </tbody>\n",
              "</table>\n",
              "</div>"
            ],
            "text/plain": [
              "            Sales\n",
              "2010-01-31    1.0\n",
              "2010-02-28    2.0\n",
              "2010-03-31    3.0\n",
              "2010-04-30    NaN\n",
              "2010-05-31    5.0"
            ]
          },
          "metadata": {
            "tags": []
          },
          "execution_count": 15
        }
      ]
    },
    {
      "cell_type": "markdown",
      "metadata": {
        "id": "p3CNeiqCh2ph",
        "colab_type": "text"
      },
      "source": [
        "Note:\n",
        "\n",
        "Back-filling and forward-filling can be thought of form of naive interpolation, where we draw a flat line fron a known value and use it to fill in missing values. One (minor) advantage back- and forward-filling have over interpolation is the lack of the need for known values on both sides of missing value(s)."
      ]
    },
    {
      "cell_type": "code",
      "metadata": {
        "id": "I9gxXb-ebk1F",
        "colab_type": "code",
        "colab": {}
      },
      "source": [
        "\n"
      ],
      "execution_count": 0,
      "outputs": []
    }
  ]
}